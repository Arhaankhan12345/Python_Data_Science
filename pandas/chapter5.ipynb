{
 "cells": [
  {
   "cell_type": "code",
   "execution_count": 4,
   "metadata": {},
   "outputs": [],
   "source": [
    "import pandas as pd \n",
    "import numpy as np\n",
    "from textblob import TextBlob"
   ]
  },
  {
   "cell_type": "code",
   "execution_count": 5,
   "metadata": {},
   "outputs": [
    {
     "data": {
      "text/html": [
       "<div>\n",
       "<style scoped>\n",
       "    .dataframe tbody tr th:only-of-type {\n",
       "        vertical-align: middle;\n",
       "    }\n",
       "\n",
       "    .dataframe tbody tr th {\n",
       "        vertical-align: top;\n",
       "    }\n",
       "\n",
       "    .dataframe thead th {\n",
       "        text-align: right;\n",
       "    }\n",
       "</style>\n",
       "<table border=\"1\" class=\"dataframe\">\n",
       "  <thead>\n",
       "    <tr style=\"text-align: right;\">\n",
       "      <th></th>\n",
       "      <th>heading</th>\n",
       "      <th>source</th>\n",
       "      <th>content</th>\n",
       "    </tr>\n",
       "  </thead>\n",
       "  <tbody>\n",
       "    <tr>\n",
       "      <th>0</th>\n",
       "      <td>Watch: Sri Lanka Players' Amazing Dance Post B...</td>\n",
       "      <td>NDTV Sports Desk   | Thursday October 13, 2022</td>\n",
       "      <td>Sri Lanka defeated Pakistan by one run in the ...</td>\n",
       "    </tr>\n",
       "    <tr>\n",
       "      <th>1</th>\n",
       "      <td>Google Pixel 7 Pro Becomes Top-Ranked Camera P...</td>\n",
       "      <td>Written by Nithya P Nair , Edited by Siddharth...</td>\n",
       "      <td>Google Pixel 7 Pro has undergone the DxOMark c...</td>\n",
       "    </tr>\n",
       "    <tr>\n",
       "      <th>2</th>\n",
       "      <td>Tiger Still Inside The Bhopal College For 11th...</td>\n",
       "      <td>Press Trust of India   | Thursday October 13, ...</td>\n",
       "      <td>The presence of a tiger on the sprawling 65-ac...</td>\n",
       "    </tr>\n",
       "    <tr>\n",
       "      <th>3</th>\n",
       "      <td>NaN</td>\n",
       "      <td>NaN</td>\n",
       "      <td>NaN</td>\n",
       "    </tr>\n",
       "    <tr>\n",
       "      <th>4</th>\n",
       "      <td>Supreme Court Refuses Urgent Hearing On Plea A...</td>\n",
       "      <td>Press Trust of India   | Thursday October 13, ...</td>\n",
       "      <td>The Supreme Court today refused to accord urge...</td>\n",
       "    </tr>\n",
       "  </tbody>\n",
       "</table>\n",
       "</div>"
      ],
      "text/plain": [
       "                                             heading  \\\n",
       "0  Watch: Sri Lanka Players' Amazing Dance Post B...   \n",
       "1  Google Pixel 7 Pro Becomes Top-Ranked Camera P...   \n",
       "2  Tiger Still Inside The Bhopal College For 11th...   \n",
       "3                                                NaN   \n",
       "4  Supreme Court Refuses Urgent Hearing On Plea A...   \n",
       "\n",
       "                                              source  \\\n",
       "0     NDTV Sports Desk   | Thursday October 13, 2022   \n",
       "1  Written by Nithya P Nair , Edited by Siddharth...   \n",
       "2  Press Trust of India   | Thursday October 13, ...   \n",
       "3                                                NaN   \n",
       "4  Press Trust of India   | Thursday October 13, ...   \n",
       "\n",
       "                                             content  \n",
       "0  Sri Lanka defeated Pakistan by one run in the ...  \n",
       "1  Google Pixel 7 Pro has undergone the DxOMark c...  \n",
       "2  The presence of a tiger on the sprawling 65-ac...  \n",
       "3                                                NaN  \n",
       "4  The Supreme Court today refused to accord urge...  "
      ]
     },
     "execution_count": 5,
     "metadata": {},
     "output_type": "execute_result"
    }
   ],
   "source": [
    "df=pd.read_csv('latest_news.csv')\n",
    "df.head()"
   ]
  },
  {
   "cell_type": "code",
   "execution_count": 6,
   "metadata": {},
   "outputs": [],
   "source": [
    "def get_polarity(text):\n",
    "    if isinstance(text, str):\n",
    "        return TextBlob(text).sentiment.polarity\n",
    "    else:\n",
    "        return np.nan"
   ]
  },
  {
   "cell_type": "code",
   "execution_count": 8,
   "metadata": {},
   "outputs": [
    {
     "data": {
      "text/html": [
       "<div>\n",
       "<style scoped>\n",
       "    .dataframe tbody tr th:only-of-type {\n",
       "        vertical-align: middle;\n",
       "    }\n",
       "\n",
       "    .dataframe tbody tr th {\n",
       "        vertical-align: top;\n",
       "    }\n",
       "\n",
       "    .dataframe thead th {\n",
       "        text-align: right;\n",
       "    }\n",
       "</style>\n",
       "<table border=\"1\" class=\"dataframe\">\n",
       "  <thead>\n",
       "    <tr style=\"text-align: right;\">\n",
       "      <th></th>\n",
       "      <th>heading</th>\n",
       "      <th>source</th>\n",
       "      <th>content</th>\n",
       "      <th>polarity</th>\n",
       "    </tr>\n",
       "  </thead>\n",
       "  <tbody>\n",
       "    <tr>\n",
       "      <th>0</th>\n",
       "      <td>Watch: Sri Lanka Players' Amazing Dance Post B...</td>\n",
       "      <td>NDTV Sports Desk   | Thursday October 13, 2022</td>\n",
       "      <td>Sri Lanka defeated Pakistan by one run in the ...</td>\n",
       "      <td>NaN</td>\n",
       "    </tr>\n",
       "    <tr>\n",
       "      <th>1</th>\n",
       "      <td>Google Pixel 7 Pro Becomes Top-Ranked Camera P...</td>\n",
       "      <td>Written by Nithya P Nair , Edited by Siddharth...</td>\n",
       "      <td>Google Pixel 7 Pro has undergone the DxOMark c...</td>\n",
       "      <td>NaN</td>\n",
       "    </tr>\n",
       "    <tr>\n",
       "      <th>2</th>\n",
       "      <td>Tiger Still Inside The Bhopal College For 11th...</td>\n",
       "      <td>Press Trust of India   | Thursday October 13, ...</td>\n",
       "      <td>The presence of a tiger on the sprawling 65-ac...</td>\n",
       "      <td>NaN</td>\n",
       "    </tr>\n",
       "    <tr>\n",
       "      <th>3</th>\n",
       "      <td>NaN</td>\n",
       "      <td>NaN</td>\n",
       "      <td>NaN</td>\n",
       "      <td>NaN</td>\n",
       "    </tr>\n",
       "    <tr>\n",
       "      <th>4</th>\n",
       "      <td>Supreme Court Refuses Urgent Hearing On Plea A...</td>\n",
       "      <td>Press Trust of India   | Thursday October 13, ...</td>\n",
       "      <td>The Supreme Court today refused to accord urge...</td>\n",
       "      <td>NaN</td>\n",
       "    </tr>\n",
       "  </tbody>\n",
       "</table>\n",
       "</div>"
      ],
      "text/plain": [
       "                                             heading  \\\n",
       "0  Watch: Sri Lanka Players' Amazing Dance Post B...   \n",
       "1  Google Pixel 7 Pro Becomes Top-Ranked Camera P...   \n",
       "2  Tiger Still Inside The Bhopal College For 11th...   \n",
       "3                                                NaN   \n",
       "4  Supreme Court Refuses Urgent Hearing On Plea A...   \n",
       "\n",
       "                                              source  \\\n",
       "0     NDTV Sports Desk   | Thursday October 13, 2022   \n",
       "1  Written by Nithya P Nair , Edited by Siddharth...   \n",
       "2  Press Trust of India   | Thursday October 13, ...   \n",
       "3                                                NaN   \n",
       "4  Press Trust of India   | Thursday October 13, ...   \n",
       "\n",
       "                                             content  polarity  \n",
       "0  Sri Lanka defeated Pakistan by one run in the ...       NaN  \n",
       "1  Google Pixel 7 Pro has undergone the DxOMark c...       NaN  \n",
       "2  The presence of a tiger on the sprawling 65-ac...       NaN  \n",
       "3                                                NaN       NaN  \n",
       "4  The Supreme Court today refused to accord urge...       NaN  "
      ]
     },
     "execution_count": 8,
     "metadata": {},
     "output_type": "execute_result"
    }
   ],
   "source": [
    "df['polarity']=df.apply(get_polarity)\n",
    "df.head()\n"
   ]
  },
  {
   "cell_type": "code",
   "execution_count": 9,
   "metadata": {},
   "outputs": [
    {
     "data": {
      "text/plain": [
       "<AxesSubplot: >"
      ]
     },
     "execution_count": 9,
     "metadata": {},
     "output_type": "execute_result"
    },
    {
     "data": {
      "image/png": "[encoded data removed]",
      "text/plain": [
       "<Figure size 2500x600 with 1 Axes>"
      ]
     },
     "metadata": {},
     "output_type": "display_data"
    }
   ],
   "source": [
    "df['polarity'].plot(kind='bar',figsize=(25,6))"
   ]
  },
  {
   "cell_type": "code",
   "execution_count": 10,
   "metadata": {},
   "outputs": [],
   "source": [
    "import plotly.express as px"
   ]
  },
  {
   "cell_type": "code",
   "execution_count": 1,
   "metadata": {},
   "outputs": [
    {
     "ename": "NameError",
     "evalue": "name 'px' is not defined",
     "output_type": "error",
     "traceback": [
      "\u001b[1;31m---------------------------------------------------------------------------\u001b[0m",
      "\u001b[1;31mNameError\u001b[0m                                 Traceback (most recent call last)",
      "Cell \u001b[1;32mIn [1], line 1\u001b[0m\n\u001b[1;32m----> 1\u001b[0m \u001b[43mpx\u001b[49m\u001b[38;5;241m.\u001b[39mbar(df,x\u001b[38;5;241m=\u001b[39mdf\u001b[38;5;241m.\u001b[39mindex,y\u001b[38;5;241m=\u001b[39m\u001b[38;5;124m'\u001b[39m\u001b[38;5;124mpolarity\u001b[39m\u001b[38;5;124m'\u001b[39m,hover_data\u001b[38;5;241m=\u001b[39m[\u001b[38;5;124m'\u001b[39m\u001b[38;5;124mheading\u001b[39m\u001b[38;5;124m'\u001b[39m,\u001b[38;5;124m'\u001b[39m\u001b[38;5;124mcontent\u001b[39m\u001b[38;5;124m'\u001b[39m])\n",
      "\u001b[1;31mNameError\u001b[0m: name 'px' is not defined"
     ]
    }
   ],
   "source": [
    "px.bar(df,x=df.index,y='polarity',hover_data=['heading','content'])"
   ]
  }
 ],
 "metadata": {
  "kernelspec": {
   "display_name": "Python 3.9.12 64-bit ('miniconda3')",
   "language": "python",
   "name": "python3"
  },
  "language_info": {
   "codemirror_mode": {
    "name": "ipython",
    "version": 3
   },
   "file_extension": ".py",
   "mimetype": "text/x-python",
   "name": "python",
   "nbconvert_exporter": "python",
   "pygments_lexer": "ipython3",
   "version": "3.9.12"
  },
  "orig_nbformat": 4,
  "vscode": {
   "interpreter": {
    "hash": "35d695dc1fdf11a3525ece6138027716108c567c8f224d99a809500ad4b6d4c0"
   }
  }
 },
 "nbformat": 4,
 "nbformat_minor": 2
}
