{
 "cells": [
  {
   "cell_type": "code",
   "execution_count": null,
   "metadata": {},
   "outputs": [],
   "source": [
    "import requests \n",
    "from  PIL import Image\n",
    "from io import BytesIO"
   ]
  },
  {
   "cell_type": "code",
   "execution_count": null,
   "metadata": {},
   "outputs": [],
   "source": [
    "\n",
    "\n",
    "\n",
    "def downlod_img(url):\n",
    "    response=requests.get(url)\n",
    "    img=Image.open(BytesIO(response.content))\n",
    "    return img\n",
    "\n"
   ]
  },
  {
   "cell_type": "code",
   "execution_count": null,
   "metadata": {},
   "outputs": [],
   "source": [
    "im1=downlod_img('')\n",
    "im1.save('image2.png')"
   ]
  },
  {
   "cell_type": "code",
   "execution_count": null,
   "metadata": {},
   "outputs": [],
   "source": [
    "im2=Image.open(r\"\")\n",
    "im2.size"
   ]
  },
  {
   "cell_type": "code",
   "execution_count": 1,
   "metadata": {},
   "outputs": [
    {
     "ename": "NameError",
     "evalue": "name 'im1' is not defined",
     "output_type": "error",
     "traceback": [
      "\u001b[1;31m---------------------------------------------------------------------------\u001b[0m",
      "\u001b[1;31mNameError\u001b[0m                                 Traceback (most recent call last)",
      "Cell \u001b[1;32mIn [1], line 1\u001b[0m\n\u001b[1;32m----> 1\u001b[0m \u001b[43mim1\u001b[49m\u001b[38;5;241m.\u001b[39mshow()\n",
      "\u001b[1;31mNameError\u001b[0m: name 'im1' is not defined"
     ]
    }
   ],
   "source": [
    "im1.show()"
   ]
  },
  {
   "cell_type": "code",
   "execution_count": null,
   "metadata": {},
   "outputs": [],
   "source": [
    "im1.show()"
   ]
  },
  {
   "cell_type": "code",
   "execution_count": null,
   "metadata": {},
   "outputs": [],
   "source": [
    "im1.info"
   ]
  },
  {
   "cell_type": "code",
   "execution_count": null,
   "metadata": {},
   "outputs": [],
   "source": [
    "im1.mode #RGB"
   ]
  },
  {
   "cell_type": "code",
   "execution_count": null,
   "metadata": {},
   "outputs": [],
   "source": [
    "#resize image\n",
    "im2.resize((100,100))"
   ]
  },
  {
   "cell_type": "code",
   "execution_count": null,
   "metadata": {},
   "outputs": [],
   "source": [
    "im1.resize((3* im1.width, 3* im1.height))"
   ]
  },
  {
   "cell_type": "code",
   "execution_count": null,
   "metadata": {},
   "outputs": [],
   "source": [
    "im2.resize(()).save('image3.png')"
   ]
  },
  {
   "cell_type": "code",
   "execution_count": null,
   "metadata": {},
   "outputs": [],
   "source": [
    "from PIL import ImageDraw,ImageFont"
   ]
  },
  {
   "cell_type": "code",
   "execution_count": null,
   "metadata": {},
   "outputs": [],
   "source": [
    "drawIm2= ImageDraw.Draw(im2)\n",
    "drawIm2.tex((20,20),'capsicum',fill='red',font=ImageFont.truetype('arial.ttf',100))\n",
    "im2"
   ]
  },
  {
   "cell_type": "code",
   "execution_count": null,
   "metadata": {},
   "outputs": [],
   "source": [
    "im2.show()"
   ]
  },
  {
   "cell_type": "code",
   "execution_count": null,
   "metadata": {},
   "outputs": [],
   "source": [
    "im1.rotate(90) #image rotate"
   ]
  },
  {
   "cell_type": "code",
   "execution_count": null,
   "metadata": {},
   "outputs": [],
   "source": [
    "im2.rotate(30,expand=True,fillcolor='white').save('capsicum2.png')"
   ]
  },
  {
   "cell_type": "code",
   "execution_count": null,
   "metadata": {},
   "outputs": [],
   "source": [
    "#Image flip\n",
    "from numpy import imag\n",
    "\n",
    "\n",
    "im1.transpose(imag.transpose.FLIP_)\n",
    "#if "
   ]
  },
  {
   "cell_type": "code",
   "execution_count": null,
   "metadata": {},
   "outputs": [],
   "source": [
    "im1.transpose(Image.Transpose.FLIP_TOP_BOTTOM)"
   ]
  },
  {
   "cell_type": "code",
   "execution_count": null,
   "metadata": {},
   "outputs": [],
   "source": [
    "SKY =downlod_img('')\n",
    "SKY.save('sky.jpg')"
   ]
  },
  {
   "cell_type": "code",
   "execution_count": null,
   "metadata": {},
   "outputs": [],
   "source": [
    "sheep=downlod_img('')\n",
    "sheep.save('sheep.jpg')"
   ]
  },
  {
   "cell_type": "code",
   "execution_count": null,
   "metadata": {},
   "outputs": [],
   "source": [
    "print(\"sky image resolution:\",SKY.size)\n",
    "print('sky format:',SKY.format)\n",
    "print(\"sheep image resolution:\",sheep.size)\n",
    "print('sheep format:'sheep.format)"
   ]
  },
  {
   "cell_type": "code",
   "execution_count": null,
   "metadata": {},
   "outputs": [],
   "source": [
    "def blend_image(image_1,image_2,mode='RGB',size=(100,100),alpha=0.5):\n",
    "    image_1=image_1.resize(size)\n",
    "    image_2=image_2.resize(size)\n",
    "    image_1=image_1.convert(mode)\n",
    "    image_2=image_2.convert(mode)\n",
    "    blended_image=Image.blend(image_1,image_2,alpha)\n",
    "    return blended_image"
   ]
  },
  {
   "cell_type": "code",
   "execution_count": null,
   "metadata": {},
   "outputs": [],
   "source": [
    "blend_image(im2,im1,alpha=0.3 size=(1000,1000)).show()"
   ]
  },
  {
   "cell_type": "code",
   "execution_count": null,
   "metadata": {},
   "outputs": [],
   "source": [
    "icon=Image.open(r'')"
   ]
  },
  {
   "cell_type": "code",
   "execution_count": null,
   "metadata": {},
   "outputs": [],
   "source": [
    "im1.paste(icon,(200,200))\n",
    "im1.show()"
   ]
  },
  {
   "cell_type": "code",
   "execution_count": null,
   "metadata": {},
   "outputs": [],
   "source": [
    "def add_watermark(image,watermark,style=None,pos=(0,0)):\n",
    "    image = image.convert('RGBA')       #Convert image to RGBA\n",
    "    watermark=watermark.convert('RGBA')  #convert watermark to RGBA\n",
    "    if style =='tile':\n",
    "        for x in range (0,image.width,watermark.width):\n",
    "            image.paste(watermark,(x,y),mark=watermark)\n",
    "    elif style is None:\n",
    "        image.paste(watermark,pos,mask=watermark)\n",
    "    return image \n"
   ]
  },
  {
   "cell_type": "code",
   "execution_count": null,
   "metadata": {},
   "outputs": [],
   "source": [
    "add_watermark(im2,icon,pos=(50,100)).show()\n"
   ]
  },
  {
   "cell_type": "code",
   "execution_count": null,
   "metadata": {},
   "outputs": [],
   "source": [
    "add_watermark(im2,icon,pos=(im2.width-200,im2.height-200)).show()                                                                                                    "
   ]
  },
  {
   "cell_type": "code",
   "execution_count": null,
   "metadata": {},
   "outputs": [],
   "source": [
    "from re import I\n",
    "\n",
    "\n",
    "filters =[\n",
    "    ImageFilter.BLUR,\n",
    "    ImageFilter.CONTOUR,\n",
    "    ImageFilteR.DETAIL,\n",
    "    ImageFilter.EDGE_ENHANCE,\n",
    "    ImageFilter.EMBOSS,\n",
    "    ImageFilter.SMOOTH,\n",
    "    ImageFilter.MaxFilter(7),\n",
    "    ImageFilter.MinFilter(7),\n",
    "    ImageFilter.MedianFilter(3),\n",
    "    ImageFilter.GaussianBlur(30),\n",
    "    ImageFilter.RankFilter(3,3),\n",
    "]\n",
    "for i,filter in enumerate(filters):\n",
    "    sheep.filter(filter).save(f'sheep_{i}.png')"
   ]
  }
 ],
 "metadata": {
  "kernelspec": {
   "display_name": "Python 3.9.12 64-bit ('miniconda3')",
   "language": "python",
   "name": "python3"
  },
  "language_info": {
   "codemirror_mode": {
    "name": "ipython",
    "version": 3
   },
   "file_extension": ".py",
   "mimetype": "text/x-python",
   "name": "python",
   "nbconvert_exporter": "python",
   "pygments_lexer": "ipython3",
   "version": "3.9.12"
  },
  "orig_nbformat": 4,
  "vscode": {
   "interpreter": {
    "hash": "35d695dc1fdf11a3525ece6138027716108c567c8f224d99a809500ad4b6d4c0"
   }
  }
 },
 "nbformat": 4,
 "nbformat_minor": 2
}
